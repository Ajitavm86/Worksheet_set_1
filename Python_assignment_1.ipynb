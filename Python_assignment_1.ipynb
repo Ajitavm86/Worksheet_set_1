{
 "cells": [
  {
   "cell_type": "code",
   "execution_count": 1,
   "id": "8d6f47d1",
   "metadata": {},
   "outputs": [],
   "source": [
    "# 1. Which of the following operators is used to calculate remainder in a division? \n",
    "# Answer: % (Modulo)"
   ]
  },
  {
   "cell_type": "code",
   "execution_count": 2,
   "id": "7478adbd",
   "metadata": {},
   "outputs": [
    {
     "data": {
      "text/plain": [
       "0.6666666666666666"
      ]
     },
     "execution_count": 2,
     "metadata": {},
     "output_type": "execute_result"
    }
   ],
   "source": [
    "#2. In python 2//3 is equal to?\n",
    "2/3"
   ]
  },
  {
   "cell_type": "code",
   "execution_count": 3,
   "id": "d3acceb4",
   "metadata": {},
   "outputs": [
    {
     "data": {
      "text/plain": [
       "24"
      ]
     },
     "execution_count": 3,
     "metadata": {},
     "output_type": "execute_result"
    }
   ],
   "source": [
    "#3.  In python, 6<<2 is equal to?\n",
    "6<<2"
   ]
  },
  {
   "cell_type": "code",
   "execution_count": 4,
   "id": "0eee95cc",
   "metadata": {},
   "outputs": [
    {
     "data": {
      "text/plain": [
       "2"
      ]
     },
     "execution_count": 4,
     "metadata": {},
     "output_type": "execute_result"
    }
   ],
   "source": [
    "#4. In python, 6&2 will give which of the following as output?\n",
    "6&2"
   ]
  },
  {
   "cell_type": "code",
   "execution_count": 5,
   "id": "9c73161f",
   "metadata": {},
   "outputs": [
    {
     "data": {
      "text/plain": [
       "3.0"
      ]
     },
     "execution_count": 5,
     "metadata": {},
     "output_type": "execute_result"
    }
   ],
   "source": [
    "#5.  In python, 6|2 will give which of the following as output?\n",
    "6/2"
   ]
  },
  {
   "cell_type": "code",
   "execution_count": 6,
   "id": "31e9d4d4",
   "metadata": {},
   "outputs": [],
   "source": [
    "#6.  What does the finally keyword denotes in python?\n",
    "# Answer: the finally block will be executed no matter if the try block raises an error or not."
   ]
  },
  {
   "cell_type": "code",
   "execution_count": 7,
   "id": "5e502827",
   "metadata": {},
   "outputs": [
    {
     "ename": "RuntimeError",
     "evalue": "No active exception to reraise",
     "output_type": "error",
     "traceback": [
      "\u001b[1;31m---------------------------------------------------------------------------\u001b[0m",
      "\u001b[1;31mRuntimeError\u001b[0m                              Traceback (most recent call last)",
      "\u001b[1;32m~\\AppData\\Local\\Temp/ipykernel_7072/1505609597.py\u001b[0m in \u001b[0;36m<module>\u001b[1;34m\u001b[0m\n\u001b[0;32m      1\u001b[0m \u001b[1;31m#7. What does raise keyword is used for in python?\u001b[0m\u001b[1;33m\u001b[0m\u001b[1;33m\u001b[0m\u001b[0m\n\u001b[1;32m----> 2\u001b[1;33m \u001b[1;32mraise\u001b[0m\u001b[1;33m\u001b[0m\u001b[1;33m\u001b[0m\u001b[0m\n\u001b[0m",
      "\u001b[1;31mRuntimeError\u001b[0m: No active exception to reraise"
     ]
    }
   ],
   "source": [
    "#7. What does raise keyword is used for in python?\n",
    "# Answer:  It is used to raise an exception.\n",
    "raise\n"
   ]
  },
  {
   "cell_type": "code",
   "execution_count": 9,
   "id": "1ff92133",
   "metadata": {},
   "outputs": [],
   "source": [
    "#8. Which of the following is a common use case of yield keyword in python?\n",
    "#Answer: in defining a generator"
   ]
  },
  {
   "cell_type": "code",
   "execution_count": 10,
   "id": "c72a7004",
   "metadata": {},
   "outputs": [],
   "source": [
    "#9.  Which of the following are the valid variable names?\n",
    "#Answer: (a) _abc,(c)abc2"
   ]
  },
  {
   "cell_type": "code",
   "execution_count": 17,
   "id": "361af8f2",
   "metadata": {},
   "outputs": [
    {
     "name": "stdout",
     "output_type": "stream",
     "text": [
      "['False', 'None', 'True', '__peg_parser__', 'and', 'as', 'assert', 'async', 'await', 'break', 'class', 'continue', 'def', 'del', 'elif', 'else', 'except', 'finally', 'for', 'from', 'global', 'if', 'import', 'in', 'is', 'lambda', 'nonlocal', 'not', 'or', 'pass', 'raise', 'return', 'try', 'while', 'with', 'yield']\n"
     ]
    }
   ],
   "source": [
    "#10.  Which of the following are the keywords in python?\n",
    "#Answer: A) yield B) raise\n",
    "import keyword\n",
    "print(keyword.kwlist)"
   ]
  },
  {
   "cell_type": "code",
   "execution_count": 22,
   "id": "1075a7e0",
   "metadata": {},
   "outputs": [
    {
     "name": "stdout",
     "output_type": "stream",
     "text": [
      "Enter positive number 'N': 5\n",
      "Factorial is:  120\n"
     ]
    }
   ],
   "source": [
    "#11. Write a python program to find the factorial of a number.\n",
    "\n",
    "def factorial(n): \n",
    "    fact=1 \n",
    "    for i in range(1,n+1): \n",
    "        fact=fact*i \n",
    "    return fact \n",
    " \n",
    "n=int(input(\"Enter positive number 'N': \")) \n",
    "f=factorial(n) \n",
    "print('Factorial is: ',f)"
   ]
  },
  {
   "cell_type": "code",
   "execution_count": 27,
   "id": "c2c22b2f",
   "metadata": {},
   "outputs": [
    {
     "name": "stdout",
     "output_type": "stream",
     "text": [
      "Enter number : 12\n",
      "12 =Composite Number\n"
     ]
    }
   ],
   "source": [
    "#12.  Write a python program to find whether a number is prime or composite.\n",
    "\n",
    "number = int(input(\"Enter number : \"))\n",
    "if number == 0 or number == 1:\n",
    "    print(number,\"=Neither prime nor composite\")\n",
    "else:\n",
    "    for i in range(2,number):\n",
    "        if(number % i == 0):\n",
    "            print(number,\"=Composite Number\")\n",
    "            break\n",
    "    else:\n",
    "        print(number,\"=Prime Number\")"
   ]
  },
  {
   "cell_type": "code",
   "execution_count": 31,
   "id": "2a95b55f",
   "metadata": {},
   "outputs": [
    {
     "name": "stdout",
     "output_type": "stream",
     "text": [
      "No\n"
     ]
    }
   ],
   "source": [
    "#13. Write a python program to check whether a given string is palindrome or not\n",
    "\n",
    "def isPalindrome(s):\n",
    "    return s == s[::-1]\n",
    "\n",
    "s=\"Malayalam\"\n",
    "ans= isPalindrome(s)\n",
    "\n",
    "if ans:\n",
    "    print(\"Yes\")   \n",
    "else:\n",
    "    print(\"No\")"
   ]
  },
  {
   "cell_type": "code",
   "execution_count": 38,
   "id": "4219017b",
   "metadata": {},
   "outputs": [
    {
     "name": "stdout",
     "output_type": "stream",
     "text": [
      "Enter base: 10\n",
      "Enter height: 20\n",
      "Enter angle: 90\n",
      "Hypotenuse = 22.360679774997898\n"
     ]
    }
   ],
   "source": [
    "#14. Write a Python program to get the third side of right-angled triangle from two given sides.\n",
    "\n",
    "import math\n",
    "\n",
    "a = float(input(\"Enter base: \"))\n",
    "b = float(input(\"Enter height: \"))\n",
    "x = float(input(\"Enter angle: \"))\n",
    "\n",
    "c = math.sqrt(a ** 2 + b ** 2)\n",
    "\n",
    "print(\"Hypotenuse =\", c)"
   ]
  },
  {
   "cell_type": "code",
   "execution_count": 39,
   "id": "a7142bf2",
   "metadata": {},
   "outputs": [
    {
     "name": "stdout",
     "output_type": "stream",
     "text": [
      "[('and', 2), ('practice', 2), ('Learn', 1), ('learn', 1), ('to', 1)]\n"
     ]
    }
   ],
   "source": [
    "#15. Write a python program to print the frequency of each of the characters present in a given string\n",
    "\n",
    "#eg text \"Learn and practice and learn to practice\"\n",
    "\n",
    "from collections import Counter\n",
    "line_text = \"Learn and practice and learn to practice\"\n",
    "freq = Counter(line_text.split()).most_common()\n",
    "print(freq)"
   ]
  },
  {
   "cell_type": "code",
   "execution_count": null,
   "id": "0bfb25e4",
   "metadata": {},
   "outputs": [],
   "source": []
  }
 ],
 "metadata": {
  "kernelspec": {
   "display_name": "Python 3 (ipykernel)",
   "language": "python",
   "name": "python3"
  },
  "language_info": {
   "codemirror_mode": {
    "name": "ipython",
    "version": 3
   },
   "file_extension": ".py",
   "mimetype": "text/x-python",
   "name": "python",
   "nbconvert_exporter": "python",
   "pygments_lexer": "ipython3",
   "version": "3.9.7"
  }
 },
 "nbformat": 4,
 "nbformat_minor": 5
}
